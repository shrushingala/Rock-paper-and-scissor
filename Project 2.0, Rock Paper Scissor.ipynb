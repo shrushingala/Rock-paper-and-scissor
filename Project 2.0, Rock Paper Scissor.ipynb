{
 "cells": [
  {
   "cell_type": "markdown",
   "id": "df3ab65d",
   "metadata": {},
   "source": [
    "# Project 2.0, Rock Paper Scissor\n",
    "Ask the user to choose and have a check with the programme,give the output. and operation. if elif,else.\n"
   ]
  },
  {
   "cell_type": "code",
   "execution_count": 3,
   "id": "0d1bd0c7",
   "metadata": {},
   "outputs": [
    {
     "name": "stdout",
     "output_type": "stream",
     "text": [
      "Lets have some fun while playing Rock, Paper and Scissor\n",
      "Enter your choice :R/P/S [Rock, Paper or Scissor]\n",
      "P\n",
      "Enter your choice :R/P/S [Rock, Paper or Scissor]\n",
      "R\n",
      "Player1 choose this P and Player2 choose this R\n",
      "Player1 won the game\n"
     ]
    }
   ],
   "source": [
    "\n",
    "print(\"Lets have some fun while playing Rock, Paper and Scissor\")\n",
    "player1 = str(input(\"Enter your choice :R/P/S [Rock, Paper or Scissor]\\n\"))\n",
    "player2 = str(input(\"Enter your choice :R/P/S [Rock, Paper or Scissor]\\n\"))\n",
    "\n",
    "if (player1=='R') and (player2=='R'):\n",
    "    print(\"Player1 choose this {option1} and Player2 choose this {option2}\".format(option1=player1 , option2=player2))\n",
    "    print(\"Its a tie\")\n",
    "elif (player1=='R') and (player2=='P'):\n",
    "    print(\"Player1 choose this {option1} and Player2 choose this {option2}\".format(option1=player1 , option2=player2))\n",
    "    print(\"Player2 won the game\")\n",
    "elif (player1=='R') and (player2=='S'):\n",
    "    print(\"Player1 choose this {option1} and Player2 choose this {option2}\".format(option1=player1 , option2=player2))\n",
    "    print(\"Player1 won the game\")\n",
    "\n",
    "elif (player1=='P') and (player2=='R'):\n",
    "    print(\"Player1 choose this {option1} and Player2 choose this {option2}\".format(option1=player1 , option2=player2))\n",
    "    print(\"Player1 won the game\")\n",
    "elif (player1=='P') and (player2=='P'):\n",
    "    print(\"Player1 choose this {option1} and Player2 choose this {option2}\".format(option1=player1 , option2=player2))\n",
    "    print(\"Its a tie\")\n",
    "elif (player1=='P') and (player2=='S'):\n",
    "    print(\"Player1 choose this {option1} and Player2 choose this {option2}\".format(option1=player1 , option2=player2))\n",
    "    print(\"Player2 won the game\")\n",
    "    \n",
    "elif (player1=='S') and (player2=='R'):\n",
    "    print(\"Player1 choose this {option1} and Player2 choose this {option2}\".format(option1=player1 , option2=player2))\n",
    "    print(\"Player2 won the game\")\n",
    "elif (player1=='S') and (player2=='P'):\n",
    "    print(\"Player1 choose this {option1} and Player2 choose this {option2}\".format(option1=player1 , option2=player2))\n",
    "    print(\"Player1 won the game\")\n",
    "elif (player1=='S') and (player2=='S'):\n",
    "    print(\"Player1 choose this {option1} and Player2 choose this {option2}\".format(option1=player1 , option2=player2))\n",
    "    print(\"Its a tie\")\n",
    "    \n",
    "else:\n",
    "    print(\"Something went wrrong\")"
   ]
  },
  {
   "cell_type": "code",
   "execution_count": null,
   "id": "2166b61d",
   "metadata": {},
   "outputs": [],
   "source": []
  },
  {
   "cell_type": "code",
   "execution_count": null,
   "id": "4e83d93e",
   "metadata": {},
   "outputs": [],
   "source": []
  },
  {
   "cell_type": "code",
   "execution_count": null,
   "id": "fe75f766",
   "metadata": {},
   "outputs": [],
   "source": []
  }
 ],
 "metadata": {
  "kernelspec": {
   "display_name": "Python 3 (ipykernel)",
   "language": "python",
   "name": "python3"
  },
  "language_info": {
   "codemirror_mode": {
    "name": "ipython",
    "version": 3
   },
   "file_extension": ".py",
   "mimetype": "text/x-python",
   "name": "python",
   "nbconvert_exporter": "python",
   "pygments_lexer": "ipython3",
   "version": "3.9.7"
  }
 },
 "nbformat": 4,
 "nbformat_minor": 5
}
